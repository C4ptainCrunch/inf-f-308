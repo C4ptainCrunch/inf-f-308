{
 "cells": [
  {
   "cell_type": "code",
   "execution_count": 1,
   "metadata": {
    "collapsed": false,
    "scrolled": false
   },
   "outputs": [
    {
     "ename": "ImportError",
     "evalue": "No module named 'pandas'",
     "output_type": "error",
     "traceback": [
      "\u001b[1;31m---------------------------------------------------------------------------\u001b[0m",
      "\u001b[1;31mImportError\u001b[0m                               Traceback (most recent call last)",
      "\u001b[1;32m<ipython-input-1-ba2d9a062462>\u001b[0m in \u001b[0;36m<module>\u001b[1;34m()\u001b[0m\n\u001b[0;32m      2\u001b[0m \u001b[1;32mfrom\u001b[0m \u001b[0mdatetime\u001b[0m \u001b[1;32mimport\u001b[0m \u001b[0mtimedelta\u001b[0m\u001b[1;33m\u001b[0m\u001b[0m\n\u001b[0;32m      3\u001b[0m \u001b[1;32mimport\u001b[0m \u001b[0mscipy\u001b[0m\u001b[1;33m\u001b[0m\u001b[0m\n\u001b[1;32m----> 4\u001b[1;33m \u001b[1;32mimport\u001b[0m \u001b[0mpandas\u001b[0m\u001b[1;33m\u001b[0m\u001b[0m\n\u001b[0m\u001b[0;32m      5\u001b[0m \u001b[1;33m\u001b[0m\u001b[0m\n\u001b[0;32m      6\u001b[0m \u001b[0mget_ipython\u001b[0m\u001b[1;33m(\u001b[0m\u001b[1;33m)\u001b[0m\u001b[1;33m.\u001b[0m\u001b[0mmagic\u001b[0m\u001b[1;33m(\u001b[0m\u001b[1;34m'pylab inline'\u001b[0m\u001b[1;33m)\u001b[0m\u001b[1;33m\u001b[0m\u001b[0m\n",
      "\u001b[1;31mImportError\u001b[0m: No module named 'pandas'"
     ]
    }
   ],
   "source": [
    "import psycopg2, statistics, collections\n",
    "from datetime import timedelta\n",
    "import scipy\n",
    "import pandas\n",
    "\n",
    "%pylab inline\n",
    "pylab.rcParams['figure.figsize'] = (20, 8)"
   ]
  },
  {
   "cell_type": "code",
   "execution_count": null,
   "metadata": {
    "collapsed": false,
    "scrolled": false
   },
   "outputs": [],
   "source": [
    "conn = psycopg2.connect(database=\"delay\", user=\"nikita\")\n",
    "conn.autocommit = True"
   ]
  },
  {
   "cell_type": "code",
   "execution_count": null,
   "metadata": {
    "collapsed": false,
    "scrolled": false
   },
   "outputs": [],
   "source": [
    "cur = conn.cursor()\n",
    "cur.execute(\"SELECT * FROM heading WHERE line='95' AND way=1 ORDER BY id;\")\n",
    "data = cur.fetchall()"
   ]
  },
  {
   "cell_type": "code",
   "execution_count": null,
   "metadata": {
    "collapsed": false,
    "scrolled": true
   },
   "outputs": [],
   "source": [
    "dates = [row[4] for row in data]\n",
    "positions = [np.array(row[3]) for row in data]\n",
    "positions = np.stack(positions)\n",
    "\n",
    "subset_start = int(positions.shape[0]/2)\n",
    "subset_len = 3 * 60 * 5 # we sample at 3 samples/minute and we want 4h\n",
    "\n",
    "subset = positions[subset_start:subset_start+subset_len]\n",
    "subset_dates = dates[subset_start:subset_start+subset_len]\n",
    "\n",
    "for row, date in zip(subset, subset_dates):\n",
    "    time = date.strftime(\"%H:%M:%S \")\n",
    "    print(time + ''.join(['■' if has_bus else '□' for has_bus in row]))"
   ]
  },
  {
   "cell_type": "code",
   "execution_count": null,
   "metadata": {
    "collapsed": false
   },
   "outputs": [],
   "source": [
    "V_TRESHOLD = 15\n",
    "H_TRESHOLD = 4\n",
    "\n",
    "def assign_id(aligned, row, max_id=0):\n",
    "    identified_row = np.zeros_like(row, dtype=np.int64)\n",
    "    if aligned is None:\n",
    "        for i, has_bus in reversed(list(enumerate(row))):\n",
    "            if has_bus:\n",
    "                max_id += 1\n",
    "                identified_row[i] = max_id\n",
    "        return identified_row, max_id\n",
    "    \n",
    "    for i, has_bus in reversed(list(enumerate(row))):\n",
    "        if has_bus:\n",
    "            for j in range(i, max(i - H_TRESHOLD, -1), -1):\n",
    "                if identified_row[i]:\n",
    "                    break\n",
    "                for k in range(max(aligned.shape[0] - V_TRESHOLD, 0), aligned.shape[0]):\n",
    "                    if row[j]:\n",
    "                        # algo avancé\n",
    "                        pass\n",
    "                    current_cell = aligned[k][j]\n",
    "                    if (current_cell != 0 \n",
    "                        and current_cell not in aligned[k+1:, j+1:]\n",
    "                        and  current_cell not in identified_row\n",
    "                       ):\n",
    "                        identified_row[i] = current_cell\n",
    "                        break\n",
    "                \n",
    "            if identified_row[i] == 0:\n",
    "                max_id += 1\n",
    "                identified_row[i] = max_id\n",
    "\n",
    "    return identified_row, max_id"
   ]
  },
  {
   "cell_type": "code",
   "execution_count": null,
   "metadata": {
    "collapsed": true
   },
   "outputs": [],
   "source": [
    "def trajects_from_bool(data):\n",
    "    aligned = None\n",
    "    max_id = 0\n",
    "    for row in data:\n",
    "        identified_row, max_id = assign_id_better(aligned, row, max_id=max_id)\n",
    "        if aligned is None:\n",
    "            aligned = np.array([identified_row])\n",
    "        else:\n",
    "            aligned = np.vstack((aligned, identified_row))\n",
    "    \n",
    "    buses = collections.defaultdict(list)\n",
    "    for index, x in np.ndenumerate(aligned):\n",
    "        if x != 0:\n",
    "            buses[x].append(index)\n",
    "    \n",
    "    return buses.values()"
   ]
  },
  {
   "cell_type": "code",
   "execution_count": null,
   "metadata": {
    "collapsed": true
   },
   "outputs": [],
   "source": [
    "def skip_terminus(traject):\n",
    "    index = -1\n",
    "    for i, l in enumerate(traject):\n",
    "        time, stop = l\n",
    "        if stop == 0:\n",
    "            index = i\n",
    "        else:\n",
    "            break\n",
    "    last_terminus = index\n",
    "    if last_terminus >= 0:\n",
    "        return traject[last_terminus:]\n",
    "    else:\n",
    "        return traject"
   ]
  },
  {
   "cell_type": "code",
   "execution_count": null,
   "metadata": {
    "collapsed": true
   },
   "outputs": [],
   "source": [
    "def reduce_traject(traject):\n",
    "    seen_stops = set()\n",
    "    ret = []\n",
    "    for time, stop in traject:\n",
    "        if stop not in seen_stops:\n",
    "            ret.append([time, stop])\n",
    "            seen_stops.add(stop)\n",
    "    return ret"
   ]
  },
  {
   "cell_type": "code",
   "execution_count": null,
   "metadata": {
    "collapsed": false
   },
   "outputs": [],
   "source": [
    "trajects = trajects_from_bool(subset)\n",
    "trajects = map(skip_terminus, trajects)\n",
    "trajects = map(reduce_traject, trajects)\n",
    "trajects = list(trajects)"
   ]
  },
  {
   "cell_type": "code",
   "execution_count": null,
   "metadata": {
    "collapsed": false
   },
   "outputs": [],
   "source": [
    "pylab.rcParams['figure.figsize'] = (20, 20)\n",
    "plt.gca().invert_yaxis()\n",
    "for traject in trajects:\n",
    "    plt.plot([x[1] for x in traject], [subset_dates[x[0]] for x in traject], linewidth=1)\n",
    "\n",
    "pylab.rcParams['figure.figsize'] = (20, 8)"
   ]
  },
  {
   "cell_type": "code",
   "execution_count": null,
   "metadata": {
    "collapsed": false
   },
   "outputs": [],
   "source": [
    "lengths = [len(traject) for traject in trajects]\n",
    "plt.hist(lengths, bins=np.arange(min(lengths), max(lengths) + 1, 1), normed=1)\n",
    "\n",
    "print((len(lengths) - len([x for x in lengths if x > 10]))*100/len(lengths))"
   ]
  },
  {
   "cell_type": "code",
   "execution_count": null,
   "metadata": {
    "collapsed": true
   },
   "outputs": [],
   "source": []
  }
 ],
 "metadata": {
  "celltoolbar": "Raw Cell Format",
  "kernelspec": {
   "display_name": "Python 3",
   "language": "python",
   "name": "python3"
  },
  "language_info": {
   "codemirror_mode": {
    "name": "ipython",
    "version": 3
   },
   "file_extension": ".py",
   "mimetype": "text/x-python",
   "name": "python",
   "nbconvert_exporter": "python",
   "pygments_lexer": "ipython3",
   "version": "3.4.3"
  }
 },
 "nbformat": 4,
 "nbformat_minor": 0
}
