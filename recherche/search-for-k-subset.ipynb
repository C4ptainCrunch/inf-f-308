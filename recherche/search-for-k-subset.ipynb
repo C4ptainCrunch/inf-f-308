{
 "cells": [
  {
   "cell_type": "code",
   "execution_count": 1,
   "metadata": {
    "collapsed": false
   },
   "outputs": [
    {
     "name": "stdout",
     "output_type": "stream",
     "text": [
      "Populating the interactive namespace from numpy and matplotlib\n"
     ]
    }
   ],
   "source": [
    "%pylab inline\n",
    "pylab.rcParams['figure.figsize'] = (20, 10)\n",
    "\n",
    "import matplotlib.pyplot as plt\n",
    "import psycopg2\n",
    "import numpy as np\n",
    "import sklearn\n",
    "import requests\n",
    "import scipy"
   ]
  },
  {
   "cell_type": "code",
   "execution_count": 2,
   "metadata": {
    "collapsed": true
   },
   "outputs": [],
   "source": [
    "conn = psycopg2.connect(database=\"delay\", user=\"nikita\")\n",
    "conn.autocommit = True"
   ]
  },
  {
   "cell_type": "code",
   "execution_count": 3,
   "metadata": {
    "collapsed": true
   },
   "outputs": [],
   "source": [
    "line, way = 95, 2\n",
    "\n",
    "cur = conn.cursor()\n",
    "cur.execute(\"SELECT * FROM traject WHERE line='%i' AND way=%i ORDER BY id;\" % (line, way))\n",
    "data = cur.fetchall()"
   ]
  },
  {
   "cell_type": "code",
   "execution_count": 4,
   "metadata": {
    "collapsed": false
   },
   "outputs": [],
   "source": [
    "from collections import namedtuple\n",
    "Traject = namedtuple(\"Traject\", ('id', 'line', 'way', 'timestamps', 'start'))\n",
    "models = [Traject(*row) for row in data]"
   ]
  },
  {
   "cell_type": "code",
   "execution_count": 5,
   "metadata": {
    "collapsed": false
   },
   "outputs": [],
   "source": [
    "stib_stops = requests.get(\"https://stib-mivb-api.herokuapp.com/network/line/%s/%s\" % (line, way)).json()['stops']\n",
    "len_stops = len(max(models, key=lambda x: len(x.timestamps)).timestamps)\n",
    "assert len(stib_stops) == len_stops"
   ]
  },
  {
   "cell_type": "code",
   "execution_count": 6,
   "metadata": {
    "collapsed": false
   },
   "outputs": [],
   "source": [
    "vectors = []\n",
    "for model in models:\n",
    "    vector = [np.nan] * (len_stops - 1)\n",
    "    \n",
    "    for i in range(len_stops - 1):\n",
    "        try:\n",
    "            vector[i] = (model.timestamps[i + 1] - model.timestamps[i]).total_seconds()\n",
    "        except (IndexError, TypeError):\n",
    "            vector[i] = np.nan\n",
    "    vectors.append(vector)\n",
    "\n",
    "vectors = np.array(vectors)"
   ]
  },
  {
   "cell_type": "code",
   "execution_count": 7,
   "metadata": {
    "collapsed": true
   },
   "outputs": [],
   "source": [
    "# Remove vectors with too much NaN\n",
    "bools = np.apply_along_axis(lambda x: len(list(filter(lambda y: np.isnan(y) ,x))) < 18, 1 , vectors)\n",
    "good_vectors = vectors[bools]"
   ]
  },
  {
   "cell_type": "code",
   "execution_count": 9,
   "metadata": {
    "collapsed": false
   },
   "outputs": [],
   "source": [
    "from sklearn.preprocessing import Imputer\n",
    "imputer = Imputer(missing_values=\"NaN\", strategy='mean', axis=0)\n",
    "imputed_vectors = imputer.fit_transform(good_vectors)\n",
    "\n",
    "# Split the vectors in 2: features are v[:12] and targets are v[12:]\n",
    "X, Y = imputed_vectors[:,6:12], imputed_vectors[:,12:]\n",
    "\n",
    "from sklearn.cross_validation import train_test_split\n",
    "X_train, X_test, Y_train, Y_test = train_test_split(X, Y, test_size=0.33, random_state=42)"
   ]
  },
  {
   "cell_type": "code",
   "execution_count": 10,
   "metadata": {
    "collapsed": false
   },
   "outputs": [],
   "source": [
    "from sklearn.neighbors import KNeighborsRegressor"
   ]
  },
  {
   "cell_type": "code",
   "execution_count": 11,
   "metadata": {
    "collapsed": false
   },
   "outputs": [],
   "source": [
    "def score_distance(diff):\n",
    "    return np.linalg.norm(diff)"
   ]
  },
  {
   "cell_type": "code",
   "execution_count": 12,
   "metadata": {
    "collapsed": true
   },
   "outputs": [],
   "source": [
    "def model_mean(errors):\n",
    "    return np.mean(errors)"
   ]
  },
  {
   "cell_type": "markdown",
   "metadata": {},
   "source": [
    "# Cherchons le meilleur k"
   ]
  },
  {
   "cell_type": "code",
   "execution_count": 13,
   "metadata": {
    "collapsed": false
   },
   "outputs": [
    {
     "name": "stdout",
     "output_type": "stream",
     "text": [
      "Best k: 582\n",
      "     fun: 140.53599809127573\n",
      " message: 'Solution found.'\n",
      "    nfev: 18\n",
      "  status: 0\n",
      " success: True\n",
      "       x: 582.72327797168964\n"
     ]
    }
   ],
   "source": [
    "def score_k(k):\n",
    "    knn = KNeighborsRegressor(n_neighbors=int(k), n_jobs=-1).fit(X_train, Y_train)\n",
    "    predictions = knn.predict(X_test)\n",
    "    \n",
    "    diff = Y_test - predictions\n",
    "    predictions_scores = np.apply_along_axis(score_distance, 1, diff)\n",
    "    return model_mean(predictions_scores)\n",
    "\n",
    "\n",
    "opts = {'maxiter': 20, 'disp': True, 'xatol': 0.1}\n",
    "res = scipy.optimize.minimize_scalar(score_k, bounds=(1, 1000), method='bounded', options=opts)\n",
    "print(\"Best k:\", int(res.x))\n",
    "print(res)"
   ]
  },
  {
   "cell_type": "markdown",
   "metadata": {},
   "source": [
    "# Cherchons le meilleur k (avec du weighted)"
   ]
  },
  {
   "cell_type": "code",
   "execution_count": 15,
   "metadata": {
    "collapsed": false
   },
   "outputs": [
    {
     "name": "stdout",
     "output_type": "stream",
     "text": [
      "Best k: 990\n",
      "     fun: 60.398182363155811\n",
      " message: 'Solution found.'\n",
      "    nfev: 20\n",
      "  status: 0\n",
      " success: True\n",
      "       x: 990.72901743030832\n"
     ]
    }
   ],
   "source": [
    "def score_weighted_k(k):\n",
    "    knn = KNeighborsRegressor(n_neighbors=int(k), n_jobs=-1, weights=\"distance\").fit(X_train, Y_train)\n",
    "    predictions = knn.predict(X_test)\n",
    "    \n",
    "    diff = Y_test - predictions\n",
    "    predictions_scores = np.apply_along_axis(score_distance, 1, diff)\n",
    "    return model_mean(predictions_scores)\n",
    "\n",
    "\n",
    "opts = {'maxiter': 30, 'disp': True, 'xatol': 0.1}\n",
    "res = scipy.optimize.minimize_scalar(score_weighted_k, bounds=(1, 1000), method='bounded', options=opts)\n",
    "print(\"Best k:\", int(res.x))\n",
    "print(res)"
   ]
  },
  {
   "cell_type": "code",
   "execution_count": null,
   "metadata": {
    "collapsed": true
   },
   "outputs": [],
   "source": []
  }
 ],
 "metadata": {
  "kernelspec": {
   "display_name": "Python 3",
   "language": "python",
   "name": "python3"
  },
  "language_info": {
   "codemirror_mode": {
    "name": "ipython",
    "version": 3
   },
   "file_extension": ".py",
   "mimetype": "text/x-python",
   "name": "python",
   "nbconvert_exporter": "python",
   "pygments_lexer": "ipython3",
   "version": "3.4.3"
  }
 },
 "nbformat": 4,
 "nbformat_minor": 0
}
